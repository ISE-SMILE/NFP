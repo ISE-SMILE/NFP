{
 "cells": [
  {
   "cell_type": "code",
   "execution_count": 1,
   "metadata": {},
   "outputs": [],
   "source": [
    "from scan import scan\n",
    "import mapper as mp\n",
    "from reducer import reduce\n",
    "from io_util import read_groups\n",
    "import pandas"
   ]
  },
  {
   "cell_type": "code",
   "execution_count": 2,
   "metadata": {},
   "outputs": [],
   "source": [
    "def q6_filter(df: pandas.DataFrame) -> pandas.DataFrame:\n",
    "    after_1994=df['L_SHIPDATE']>='1994-01-01'\n",
    "    before_1995=df['L_SHIPDATE']<'1995-01-01'\n",
    "    greater_d=df['L_DISCOUNT']>0.05\n",
    "    lower_d=df['L_DISCOUNT']<0.07\n",
    "    lower_q=df['L_QUANTITY']<24\n",
    "    return df[greater_d & lower_d &lower_q & before_1995 &after_1994]\n"
   ]
  },
  {
   "cell_type": "code",
   "execution_count": 7,
   "metadata": {},
   "outputs": [],
   "source": [
    "import random\n",
    "def q6_rand_filter(df):\n",
    "    date=random.randrange(1993, 1998, 1)\n",
    "    discount=round(random.uniform(0.02,0.09), 2)\n",
    "    quantity=random.randrange(24, 26, 1)\n",
    "    after_date=df['L_SHIPDATE']>='{}-01-01'.format(date)\n",
    "    before_date=df['L_SHIPDATE']<'{}-01-01'.format(date+1)\n",
    "    greater_d=df['L_DISCOUNT']>discount-0.01\n",
    "    lower_d=df['L_DISCOUNT']<discount+0.01\n",
    "    lower_q=df['L_QUANTITY']<quantity\n",
    "    print(\"selected date: {}-01-01\\nselected discount: {}\\nselected quantity: {}\".format(date,discount,quantity))\n",
    "    df=df[greater_d & lower_d &lower_q & before_date &after_date]\n",
    "    print(\"resulting in {} selected rows\\n-----------------------\".format(df.shape[0]))\n",
    "    df=df[['L_EXTENDEDPRICE', 'L_DISCOUNT']]\n",
    "    return df\n"
   ]
  },
  {
   "cell_type": "code",
   "execution_count": 4,
   "metadata": {},
   "outputs": [],
   "source": [
    "def q6_mapper(df):\n",
    "    out=pandas.DataFrame(columns=['group','value'])\n",
    "    for index,row in df.iterrows():\n",
    "        out=out.append({'group':1,'value':row['L_DISCOUNT']*row['L_EXTENDEDPRICE']}, ignore_index=True)\n",
    "    return out"
   ]
  },
  {
   "cell_type": "code",
   "execution_count": 5,
   "metadata": {},
   "outputs": [],
   "source": [
    "def q6_reducer(df):\n",
    "    sum=0\n",
    "    for index,row in df.iterrows():\n",
    "        sum+=row['value']\n",
    "    return pandas.DataFrame([['result',sum]],columns=['result', 'value'])"
   ]
  },
  {
   "cell_type": "code",
   "execution_count": 8,
   "metadata": {},
   "outputs": [
    {
     "name": "stdout",
     "output_type": "stream",
     "text": [
      "selected date: 1993-01-01\n",
      "selected discount: 0.07\n",
      "selected quantity: 25\n",
      "resulting in 132672 selected rows\n",
      "-----------------------\n",
      "selected date: 1996-01-01\n",
      "selected discount: 0.08\n",
      "selected quantity: 24\n",
      "resulting in 127287 selected rows\n",
      "-----------------------\n",
      "2 runs took 359.59758381199936s \n"
     ]
    }
   ],
   "source": [
    "import timeit\n",
    "import os\n",
    "import shutil\n",
    "runs = 2\n",
    "def run(func,*args):\n",
    "    def test():\n",
    "        func(*args)\n",
    "    return test\n",
    "\n",
    "def scan_map_reduce(in_folder,out_folder,groups_in,groups_out):\n",
    "    scan(in_folder,\"{}/test_scan.parquet\".format(out_folder),q6_rand_filter,groups_in,groups_out)\n",
    "    mp.map(\"{}/test_scan.parquet\".format(out_folder), \"{}/test_map.parquet\".format(out_folder),q6_mapper,groups_in,groups_out )\n",
    "    reduce(\"{}/test_map.parquet\".format(out_folder),\"{}/test_reduce.parquet\".format(out_folder),q6_reducer,groups_in,1)\n",
    "\n",
    "out_folder=\"./test\"\n",
    "in_folder=\"../resources/groups.parquet\"\n",
    "shutil.rmtree(out_folder)\n",
    "os.mkdir(out_folder)\n",
    "t = timeit.Timer(run(scan_map_reduce,in_folder,out_folder,[0,1],2))\n",
    "duration = t.timeit(runs)\n",
    "print(\"{} runs took {}s \".format(runs,duration))"
   ]
  },
  {
   "cell_type": "code",
   "execution_count": null,
   "metadata": {},
   "outputs": [],
   "source": []
  }
 ],
 "metadata": {
  "kernelspec": {
   "display_name": "Python 3",
   "language": "python",
   "name": "python3"
  },
  "language_info": {
   "codemirror_mode": {
    "name": "ipython",
    "version": 3
   },
   "file_extension": ".py",
   "mimetype": "text/x-python",
   "name": "python",
   "nbconvert_exporter": "python",
   "pygments_lexer": "ipython3",
   "version": "3.7.5"
  }
 },
 "nbformat": 4,
 "nbformat_minor": 2
}
